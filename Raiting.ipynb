{
 "cells": [
  {
   "cell_type": "markdown",
   "metadata": {},
   "source": [
    "## Давайте считать рейтинг\n",
    "\n",
    "Менее двух пропусков, +3 балла  <br/>\n",
    "В последней колонке контрольная: за каждый + 2.5 балла, +- 2 балла, -+ 1 балл, - 0 баллов <br/>\n",
    "Остальные: + 2 балла, - вычесть 1 балл, +- 1 балл <br/>\n",
    "Нужно вывести в последнем столбец итоговый рейтинг <br/>\n",
    "и столбец где все оценки округлены до ближайшего целого и <br/>\n",
    "все оценки превышающие 20 баллов заменены на 20 баллов <br/>\n",
    "\n",
    "1.5 округляется как 2\n"
   ]
  },
  {
   "cell_type": "code",
   "execution_count": null,
   "metadata": {},
   "outputs": [],
   "source": [
    "import pandas as pd\n",
    "import numpy as np\n",
    "df = pd.read_csv('group.tsv', sep='\\t')\n",
    "df"
   ]
  },
  {
   "cell_type": "code",
   "execution_count": null,
   "metadata": {},
   "outputs": [],
   "source": [
    "a = df.to_numpy()\n",
    "a"
   ]
  },
  {
   "cell_type": "code",
   "execution_count": null,
   "metadata": {},
   "outputs": [],
   "source": [
    "df[\"Рейтинг\"] = np.zeros(len(df))\n",
    "df[\"Рейтинг20\"] = np.zeros(len(df))\n",
    "df.to_csv('group_res.tsv', decimal=',', sep='\\t')"
   ]
  }
 ],
 "metadata": {
  "kernelspec": {
   "display_name": "Python 3",
   "language": "python",
   "name": "python3"
  },
  "language_info": {
   "codemirror_mode": {
    "name": "ipython",
    "version": 3
   },
   "file_extension": ".py",
   "mimetype": "text/x-python",
   "name": "python",
   "nbconvert_exporter": "python",
   "pygments_lexer": "ipython3",
   "version": "3.7.3"
  }
 },
 "nbformat": 4,
 "nbformat_minor": 2
}
