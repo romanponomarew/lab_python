{
 "cells": [
  {
   "cell_type": "markdown",
   "metadata": {},
   "source": [
    "## Поддержка отображений"
   ]
  },
  {
   "cell_type": "code",
   "execution_count": 1,
   "metadata": {},
   "outputs": [
    {
     "data": {
      "text/plain": [
       "True"
      ]
     },
     "execution_count": 1,
     "metadata": {},
     "output_type": "execute_result"
    }
   ],
   "source": [
    "from collections import abc\n",
    "my_dict = {}\n",
    "isinstance(my_dict, abc.Mapping)"
   ]
  },
  {
   "cell_type": "code",
   "execution_count": 2,
   "metadata": {},
   "outputs": [
    {
     "data": {
      "text/plain": [
       "8027212646858338501"
      ]
     },
     "execution_count": 2,
     "metadata": {},
     "output_type": "execute_result"
    }
   ],
   "source": [
    "tt = (1, 2, (30, 40))\n",
    "hash(tt)"
   ]
  },
  {
   "cell_type": "code",
   "execution_count": 3,
   "metadata": {},
   "outputs": [
    {
     "ename": "TypeError",
     "evalue": "unhashable type: 'list'",
     "output_type": "error",
     "traceback": [
      "\u001b[0;31m---------------------------------------------------------------------------\u001b[0m",
      "\u001b[0;31mTypeError\u001b[0m                                 Traceback (most recent call last)",
      "\u001b[0;32m<ipython-input-3-c56d40779185>\u001b[0m in \u001b[0;36m<module>\u001b[0;34m\u001b[0m\n\u001b[1;32m      1\u001b[0m \u001b[0mtl\u001b[0m \u001b[0;34m=\u001b[0m \u001b[0;34m(\u001b[0m\u001b[0;36m1\u001b[0m\u001b[0;34m,\u001b[0m \u001b[0;36m2\u001b[0m\u001b[0;34m,\u001b[0m \u001b[0;34m[\u001b[0m\u001b[0;36m30\u001b[0m\u001b[0;34m,\u001b[0m \u001b[0;36m40\u001b[0m\u001b[0;34m]\u001b[0m\u001b[0;34m)\u001b[0m\u001b[0;34m\u001b[0m\u001b[0;34m\u001b[0m\u001b[0m\n\u001b[0;32m----> 2\u001b[0;31m \u001b[0mhash\u001b[0m\u001b[0;34m(\u001b[0m\u001b[0mtl\u001b[0m\u001b[0;34m)\u001b[0m\u001b[0;34m\u001b[0m\u001b[0;34m\u001b[0m\u001b[0m\n\u001b[0m",
      "\u001b[0;31mTypeError\u001b[0m: unhashable type: 'list'"
     ]
    }
   ],
   "source": [
    "tl = (1, 2, [30, 40]) \n",
    "hash(tl)"
   ]
  },
  {
   "cell_type": "code",
   "execution_count": 5,
   "metadata": {},
   "outputs": [
    {
     "data": {
      "text/plain": [
       "True"
      ]
     },
     "execution_count": 5,
     "metadata": {},
     "output_type": "execute_result"
    }
   ],
   "source": [
    "a = dict(one=1, two=2, three=3)\n",
    "b = {'one': 1, 'two': 2, 'three': 3}\n",
    "c = dict(zip(['one', 'two', 'three'], [1, 2, 3]))\n",
    "d = dict([('two', 2), ('one', 1), ('three', 3)]) \n",
    "e = dict({'three': 3, 'one': 1, 'two': 2})\n",
    "a == b == c == d == e"
   ]
  },
  {
   "cell_type": "markdown",
   "metadata": {},
   "source": [
    "Словарное включение"
   ]
  },
  {
   "cell_type": "code",
   "execution_count": 6,
   "metadata": {},
   "outputs": [
    {
     "data": {
      "text/plain": [
       "{'China': 86,\n",
       " 'India': 91,\n",
       " 'United States': 1,\n",
       " 'Indonesia': 62,\n",
       " 'Brazil': 55,\n",
       " 'Pakistan': 92,\n",
       " 'Bangladesh': 880,\n",
       " 'Nigeria': 234,\n",
       " 'Russia': 7,\n",
       " 'Japan': 81}"
      ]
     },
     "execution_count": 6,
     "metadata": {},
     "output_type": "execute_result"
    }
   ],
   "source": [
    "DIAL_CODES = [\n",
    "    (86, 'China'),\n",
    "    (91, 'India'),\n",
    "    (1, 'United States'),\n",
    "    (62, 'Indonesia'),\n",
    "    (55, 'Brazil'),\n",
    "    (92, 'Pakistan'),\n",
    "    (880, 'Bangladesh'),\n",
    "    (234, 'Nigeria'),\n",
    "    (7, 'Russia'),\n",
    "    (81, 'Japan'),\n",
    "]\n",
    "dict(DIAL_CODES)\n",
    "country_code = {country: code for code, country in DIAL_CODES}\n",
    "country_code = {x[1]: x[0] for x in DIAL_CODES}\n",
    "country_code"
   ]
  },
  {
   "cell_type": "code",
   "execution_count": 7,
   "metadata": {},
   "outputs": [
    {
     "data": {
      "text/plain": [
       "{1: 'UNITED STATES', 62: 'INDONESIA', 55: 'BRAZIL', 7: 'RUSSIA'}"
      ]
     },
     "execution_count": 7,
     "metadata": {},
     "output_type": "execute_result"
    }
   ],
   "source": [
    "{code: country.upper() for country, code in country_code.items() if code < 66}"
   ]
  },
  {
   "cell_type": "markdown",
   "metadata": {},
   "source": [
    "## Поиск вхождений"
   ]
  },
  {
   "cell_type": "code",
   "execution_count": 8,
   "metadata": {},
   "outputs": [
    {
     "name": "stdout",
     "output_type": "stream",
     "text": [
      "a [(3, 676)]\n",
      "ac [(1, 312), (1, 593), (1, 693), (1, 834), (3, 523)]\n",
      "accumsan [(1, 543), (1, 612), (1, 663), (3, 368)]\n",
      "adipiscing [(1, 41)]\n",
      "aenean [(1, 656)]\n",
      "aliquam [(1, 200), (3, 258)]\n",
      "amet [(1, 23), (1, 233), (3, 402)]\n",
      "ante [(1, 407), (1, 650), (3, 154)]\n",
      "at [(1, 320), (1, 387), (1, 759), (3, 143), (3, 424)]\n",
      "augue [(1, 153)]\n",
      "commodo [(1, 323), (3, 384)]\n",
      "condimentum [(1, 762), (3, 581), (3, 656)]\n",
      "consectetur [(1, 29), (1, 622)]\n",
      "consequat [(3, 248)]\n",
      "convallis [(1, 365)]\n",
      "cras [(3, 393), (3, 594)]\n",
      "cubilia [(1, 469)]\n",
      "curae [(1, 477)]\n",
      "cursus [(3, 21), (3, 164)]\n",
      "dapibus [(1, 379)]\n",
      "diam [(1, 178), (1, 803), (3, 558)]\n",
      "dictum [(3, 527)]\n",
      "dignissim [(1, 238)]\n",
      "dolor [(1, 13), (3, 427)]\n",
      "dui [(1, 96), (1, 287), (3, 284)]\n",
      "duis [(3, 323)]\n",
      "egestas [(3, 146)]\n",
      "eget [(3, 464)]\n",
      "elementum [(1, 742)]\n",
      "elit [(1, 52), (3, 414), (3, 567)]\n",
      "enim [(1, 514)]\n",
      "erat [(1, 634), (1, 696), (3, 159), (3, 534)]\n",
      "eros [(3, 171), (3, 267)]\n",
      "et [(1, 449), (1, 639)]\n",
      "etiam [(1, 58)]\n",
      "eu [(1, 166), (1, 264), (1, 701), (3, 213)]\n",
      "euismod [(1, 795)]\n",
      "ex [(3, 272)]\n",
      "facilisis [(1, 583)]\n",
      "faucibus [(1, 169), (1, 428), (3, 442)]\n",
      "finibus [(3, 43), (3, 76)]\n",
      "fringilla [(3, 507)]\n",
      "iaculis [(3, 199)]\n",
      "id [(3, 365)]\n",
      "imperdiet [(3, 679)]\n",
      "in [(1, 64), (1, 375), (1, 425), (3, 227), (3, 624)]\n",
      "interdum [(1, 813)]\n",
      "ipsum [(1, 7), (1, 412), (1, 789), (3, 649)]\n",
      "justo [(3, 85), (3, 117)]\n",
      "lacus [(1, 248), (1, 783)]\n",
      "laoreet [(1, 279), (1, 774)]\n",
      "lectus [(3, 377), (3, 490)]\n",
      "libero [(1, 104)]\n",
      "lobortis [(3, 107)]\n",
      "lorem [(1, 1), (1, 704), (3, 348)]\n",
      "luctus [(1, 442), (3, 230), (3, 689)]\n",
      "maecenas [(3, 1)]\n",
      "magna [(1, 753)]\n",
      "massa [(1, 557), (3, 300)]\n",
      "mauris [(1, 503)]\n",
      "metus [(3, 238)]\n",
      "mollis [(1, 89)]\n",
      "morbi [(1, 597), (3, 540)]\n",
      "nam [(3, 420), (3, 639)]\n",
      "nec [(1, 100), (1, 809), (3, 433)]\n",
      "neque [(1, 222), (3, 207), (3, 517)]\n",
      "nibh [(3, 61)]\n",
      "nisi [(3, 671)]\n",
      "nisl [(1, 607), (3, 306)]\n",
      "non [(1, 510), (3, 10), (3, 460)]\n",
      "nulla [(1, 577), (3, 37)]\n",
      "nullam [(1, 296)]\n",
      "nunc [(1, 343), (1, 538), (3, 123), (3, 475), (3, 633)]\n",
      "odio [(1, 390), (1, 822), (1, 837), (3, 469), (3, 696)]\n",
      "orci [(1, 315), (1, 437), (3, 437)]\n",
      "ornare [(1, 643), (3, 328), (3, 407)]\n",
      "pellentesque [(1, 131), (1, 729)]\n",
      "pharetra [(3, 52)]\n",
      "phasellus [(3, 177)]\n",
      "placerat [(1, 303)]\n",
      "porta [(1, 216), (3, 627)]\n",
      "porttitor [(1, 183), (3, 480)]\n",
      "posuere [(1, 461), (1, 529)]\n",
      "praesent [(1, 484), (3, 67)]\n",
      "pretium [(1, 67), (3, 292)]\n",
      "primis [(1, 418)]\n",
      "proin [(1, 332)]\n",
      "purus [(1, 159)]\n",
      "quam [(1, 552)]\n",
      "quisque [(1, 81)]\n",
      "sagittis [(1, 672), (3, 451)]\n",
      "sapien [(3, 315)]\n",
      "scelerisque [(3, 546)]\n",
      "sed [(1, 564), (1, 603), (1, 689), (3, 244), (3, 311), (3, 563)]\n",
      "sem [(1, 291), (3, 138)]\n",
      "semper [(1, 123)]\n",
      "sit [(1, 19), (1, 229), (3, 398)]\n",
      "sodales [(3, 29)]\n",
      "suscipit [(1, 710), (1, 719)]\n",
      "tellus [(1, 827), (3, 14)]\n",
      "tempor [(1, 681), (3, 609)]\n",
      "tincidunt [(1, 493), (3, 216), (3, 354), (3, 599)]\n",
      "tortor [(3, 335), (3, 616)]\n",
      "tristique [(1, 254), (1, 349)]\n",
      "ullamcorper [(1, 111), (3, 187)]\n",
      "ultrices [(1, 452)]\n",
      "ultricies [(1, 519)]\n",
      "urna [(1, 75), (1, 338)]\n",
      "ut [(3, 289), (3, 668)]\n",
      "vehicula [(1, 568)]\n",
      "velit [(3, 643)]\n",
      "venenatis [(3, 97), (3, 128)]\n",
      "vestibulum [(1, 268), (1, 396)]\n",
      "vitae [(1, 193), (1, 359), (3, 91), (3, 342)]\n",
      "viverra [(1, 208)]\n",
      "volutpat [(1, 144), (3, 275), (3, 497), (3, 572)]\n"
     ]
    }
   ],
   "source": [
    "import re\n",
    "\n",
    "WORD_RE = re.compile('\\w+')\n",
    "\n",
    "index = {}\n",
    "\n",
    "with open(\"text.txt\") as fp: \n",
    "    for line_no, line in enumerate(fp, 1):        \n",
    "        for match in WORD_RE.finditer(line):\n",
    "            word = match.group().lower()\n",
    "            \n",
    "            column_no = match.start() + 1\n",
    "            \n",
    "            location = (line_no, column_no)\n",
    "            \n",
    "            # Плохой код:\n",
    "            occurrences = index.get(word,[]) \n",
    "            occurrences.append(location)\n",
    "            index[word] = occurrences\n",
    "            \n",
    "for word in sorted(index, key=str.upper): \n",
    "    print(word, index[word])"
   ]
  },
  {
   "cell_type": "code",
   "execution_count": null,
   "metadata": {},
   "outputs": [],
   "source": [
    "import re\n",
    "\n",
    "WORD_RE = re.compile('\\w+')\n",
    "\n",
    "index = {}\n",
    "\n",
    "with open(\"text.txt\") as fp:\n",
    "    \n",
    "    for line_no, line in enumerate(fp, 1): \n",
    "        \n",
    "        for match in WORD_RE.finditer(line):\n",
    "            \n",
    "            word = match.group().lower()\n",
    "            \n",
    "            column_no = match.start()+1\n",
    "            \n",
    "            location = (line_no, column_no)\n",
    "            \n",
    "            # Хороший код:\n",
    "            index.setdefault(word, []).append(location)\n",
    "            \n",
    "for word in sorted(index, key=str.upper): \n",
    "    print(word, index[word])"
   ]
  },
  {
   "cell_type": "code",
   "execution_count": null,
   "metadata": {},
   "outputs": [],
   "source": [
    "import re\n",
    "import collections \n",
    "WORD_RE = re.compile('\\w+')\n",
    "index = collections.defaultdict(list)\n",
    "with open(\"text.txt\") as fp:\n",
    "    for line_no, line in enumerate(fp, 1): \n",
    "        for match in WORD_RE.finditer(line):\n",
    "            word = match.group().lower()\n",
    "            column_no = match.start()+1\n",
    "            location = (line_no, column_no)\n",
    "            index[word].append(location)\n",
    "for word in sorted(index, key=str.upper): \n",
    "    print(word, index[word])"
   ]
  },
  {
   "cell_type": "code",
   "execution_count": 9,
   "metadata": {},
   "outputs": [
    {
     "name": "stdout",
     "output_type": "stream",
     "text": [
      "two\n"
     ]
    },
    {
     "ename": "KeyError",
     "evalue": "2",
     "output_type": "error",
     "traceback": [
      "\u001b[0;31m---------------------------------------------------------------------------\u001b[0m",
      "\u001b[0;31mKeyError\u001b[0m                                  Traceback (most recent call last)",
      "\u001b[0;32m<ipython-input-9-e92a7be1aaa0>\u001b[0m in \u001b[0;36m<module>\u001b[0;34m\u001b[0m\n\u001b[1;32m      3\u001b[0m \u001b[0md\u001b[0m \u001b[0;34m=\u001b[0m \u001b[0mStrKeyDict0\u001b[0m\u001b[0;34m(\u001b[0m\u001b[0;34m[\u001b[0m\u001b[0;34m(\u001b[0m\u001b[0;34m'2'\u001b[0m\u001b[0;34m,\u001b[0m \u001b[0;34m'two'\u001b[0m\u001b[0;34m)\u001b[0m\u001b[0;34m,\u001b[0m \u001b[0;34m(\u001b[0m\u001b[0;34m'4'\u001b[0m\u001b[0;34m,\u001b[0m \u001b[0;34m'four'\u001b[0m\u001b[0;34m)\u001b[0m\u001b[0;34m]\u001b[0m\u001b[0;34m)\u001b[0m\u001b[0;34m\u001b[0m\u001b[0;34m\u001b[0m\u001b[0m\n\u001b[1;32m      4\u001b[0m \u001b[0mprint\u001b[0m\u001b[0;34m(\u001b[0m\u001b[0md\u001b[0m\u001b[0;34m[\u001b[0m\u001b[0;34m'2'\u001b[0m\u001b[0;34m]\u001b[0m\u001b[0;34m)\u001b[0m\u001b[0;34m\u001b[0m\u001b[0;34m\u001b[0m\u001b[0m\n\u001b[0;32m----> 5\u001b[0;31m \u001b[0md\u001b[0m\u001b[0;34m[\u001b[0m\u001b[0;36m2\u001b[0m\u001b[0;34m]\u001b[0m\u001b[0;34m\u001b[0m\u001b[0;34m\u001b[0m\u001b[0m\n\u001b[0m",
      "\u001b[0;31mKeyError\u001b[0m: 2"
     ]
    }
   ],
   "source": [
    "class StrKeyDict0(dict):\n",
    "    pass\n",
    "d = StrKeyDict0([('2', 'two'), ('4', 'four')])\n",
    "print(d['2'])\n",
    "d[2]"
   ]
  },
  {
   "cell_type": "code",
   "execution_count": 10,
   "metadata": {},
   "outputs": [
    {
     "name": "stdout",
     "output_type": "stream",
     "text": [
      "two\n",
      "two\n"
     ]
    }
   ],
   "source": [
    "class StrKeyDict1(dict):\n",
    "    def __missing__(self, key): \n",
    "        if isinstance(key, str):\n",
    "            raise KeyError(key) \n",
    "        return self[str(key)]\n",
    "    \n",
    "    def get(self, key, default=None): \n",
    "        try:\n",
    "            return self[key] \n",
    "        except KeyError:\n",
    "            return default\n",
    "    \n",
    "    def __contains__(self, key):\n",
    "        return key in self.keys() or str(key) in self.keys()\n",
    "    \n",
    "d = StrKeyDict1([('2', 'two'), ('4', 'four')])\n",
    "print(d['2'])\n",
    "print(d[2])"
   ]
  },
  {
   "cell_type": "markdown",
   "metadata": {},
   "source": [
    "## Объединение"
   ]
  },
  {
   "cell_type": "code",
   "execution_count": 11,
   "metadata": {},
   "outputs": [
    {
     "data": {
      "text/plain": [
       "{'a': 1, 'b': 2}"
      ]
     },
     "execution_count": 11,
     "metadata": {},
     "output_type": "execute_result"
    }
   ],
   "source": [
    "a={\"a\":1}\n",
    "a.update({\"b\":2})\n",
    "a"
   ]
  },
  {
   "cell_type": "code",
   "execution_count": 5,
   "metadata": {},
   "outputs": [
    {
     "data": {
      "text/plain": [
       "{'aa': 44, 'a': 1, 'b': 2}"
      ]
     },
     "execution_count": 5,
     "metadata": {},
     "output_type": "execute_result"
    }
   ],
   "source": [
    "{\"aa\":44, **a}"
   ]
  },
  {
   "cell_type": "code",
   "execution_count": null,
   "metadata": {},
   "outputs": [],
   "source": [
    "l = [1,2,3]\n",
    "\n",
    "def f(**l)\n",
    "\n",
    "f(a=1, b=3, c=4)"
   ]
  },
  {
   "cell_type": "markdown",
   "metadata": {},
   "source": [
    "Особые отображения:\n",
    "collections.OrderedDict\n",
    "collections.ChainMap\n",
    "collections.Counter"
   ]
  },
  {
   "cell_type": "code",
   "execution_count": 13,
   "metadata": {},
   "outputs": [
    {
     "name": "stdout",
     "output_type": "stream",
     "text": [
      "Counter({'a': 5, 'b': 2, 'r': 2, 'c': 1, 'd': 1})\n",
      "Counter({'a': 10, 'z': 3, 'b': 2, 'r': 2, 'c': 1, 'd': 1})\n",
      "[('a', 10), ('z', 3)]\n"
     ]
    }
   ],
   "source": [
    "import collections\n",
    "ct = collections.Counter('abracadabra')\n",
    "print(ct)\n",
    "ct.update('aaaaazzz')\n",
    "print(ct)\n",
    "print(ct.most_common(2))"
   ]
  },
  {
   "cell_type": "markdown",
   "metadata": {},
   "source": [
    "## Множесва"
   ]
  },
  {
   "cell_type": "code",
   "execution_count": null,
   "metadata": {},
   "outputs": [],
   "source": [
    "l = ['pork', 'pork', 'eggs', 'pork'] \n",
    "'pork' in l\n",
    "s = set(l)\n",
    "'pork' in s"
   ]
  },
  {
   "cell_type": "code",
   "execution_count": null,
   "metadata": {},
   "outputs": [],
   "source": [
    "{'pork', 'pork', 'eggs', 'pork'}"
   ]
  },
  {
   "cell_type": "code",
   "execution_count": null,
   "metadata": {},
   "outputs": [],
   "source": [
    "set()"
   ]
  },
  {
   "cell_type": "code",
   "execution_count": null,
   "metadata": {},
   "outputs": [],
   "source": [
    "{'eggs', 'pork'} & {'beef', 'eggs'}"
   ]
  },
  {
   "cell_type": "code",
   "execution_count": null,
   "metadata": {},
   "outputs": [],
   "source": [
    "{'eggs', 'pork'} & set()"
   ]
  },
  {
   "cell_type": "code",
   "execution_count": 14,
   "metadata": {},
   "outputs": [
    {
     "data": {
      "text/plain": [
       "True"
      ]
     },
     "execution_count": 14,
     "metadata": {},
     "output_type": "execute_result"
    }
   ],
   "source": [
    "{'eggs', 'pork'} > {'pork'}"
   ]
  },
  {
   "cell_type": "code",
   "execution_count": null,
   "metadata": {},
   "outputs": [],
   "source": [
    "'d' in set('df')"
   ]
  },
  {
   "cell_type": "markdown",
   "metadata": {},
   "source": [
    "## Глобальные переменные"
   ]
  },
  {
   "cell_type": "code",
   "execution_count": null,
   "metadata": {},
   "outputs": [],
   "source": [
    "a = 1\n",
    "def f(x):\n",
    "    global a\n",
    "    a += 1 # чего делать будем?\n",
    "    return a+x\n",
    "\n",
    "f(1)"
   ]
  },
  {
   "cell_type": "code",
   "execution_count": null,
   "metadata": {},
   "outputs": [],
   "source": []
  }
 ],
 "metadata": {
  "kernelspec": {
   "display_name": "Python 3",
   "language": "python",
   "name": "python3"
  },
  "language_info": {
   "codemirror_mode": {
    "name": "ipython",
    "version": 3
   },
   "file_extension": ".py",
   "mimetype": "text/x-python",
   "name": "python",
   "nbconvert_exporter": "python",
   "pygments_lexer": "ipython3",
   "version": "3.7.3"
  }
 },
 "nbformat": 4,
 "nbformat_minor": 2
}
